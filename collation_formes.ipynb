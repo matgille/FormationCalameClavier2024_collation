{
 "cells": [
  {
   "cell_type": "markdown",
   "metadata": {
    "editable": true,
    "slideshow": {
     "slide_type": "slide"
    },
    "tags": []
   },
   "source": [
    "# Aligner et comparer des textes -- approfondissement et exercices"
   ]
  },
  {
   "cell_type": "code",
   "execution_count": null,
   "metadata": {
    "editable": true,
    "slideshow": {
     "slide_type": "slide"
    },
    "tags": []
   },
   "outputs": [],
   "source": [
    "import collatex\n",
    "import time\n",
    "import json\n",
    "import lxml.etree as etree"
   ]
  },
  {
   "cell_type": "markdown",
   "metadata": {
    "editable": true,
    "slideshow": {
     "slide_type": "slide"
    },
    "tags": []
   },
   "source": [
    "Nous allons utiliser le fragment d'un poème de Catulle comme support pour tous nos exercices qui appliquent la partie précédente de l'atelier animée par Elisa. Commençons par charger nos textes:"
   ]
  },
  {
   "cell_type": "code",
   "execution_count": null,
   "metadata": {
    "editable": true,
    "slideshow": {
     "slide_type": "slide"
    },
    "tags": []
   },
   "outputs": [],
   "source": [
    "# On va importer les textes: 1\n",
    "with open(\"Catullus/TEXT-O1.txt\", \"r\") as input_text:\n",
    "    # On va supprimer les sauts de ligne qui ne nous intéressent pas pour l'exercice.\n",
    "    texte_a = input_text.read().replace(\"\\n\", \" \")\n",
    "\n",
    "# et 2\n",
    "with open(\"Catullus/TEXT-G2.txt\", \"r\") as input_text:\n",
    "    texte_b = input_text.read().replace(\"\\n\", \" \")\n",
    "\n",
    "\n",
    "# et 3\n",
    "with open(\"Catullus/TEXT-Bodmer47-1.txt\", \"r\") as input_text:\n",
    "    texte_c = input_text.read().replace(\"\\n\", \" \")"
   ]
  },
  {
   "cell_type": "markdown",
   "metadata": {
    "editable": true,
    "slideshow": {
     "slide_type": "slide"
    },
    "tags": []
   },
   "source": [
    "On peut imprimer le texte 3 pour vérifier qu'il est bien chargé:"
   ]
  },
  {
   "cell_type": "code",
   "execution_count": null,
   "metadata": {
    "editable": true,
    "slideshow": {
     "slide_type": "slide"
    },
    "tags": []
   },
   "outputs": [],
   "source": [
    "print(text_3)"
   ]
  },
  {
   "attachments": {},
   "cell_type": "markdown",
   "metadata": {
    "editable": true,
    "slideshow": {
     "slide_type": "slide"
    },
    "tags": []
   },
   "source": [
    "### Deuxième étape: on prépare la collation\n",
    "\n",
    "On crée une instance Collation de notre librairie collatex, puis on ajoute chacun des textes"
   ]
  },
  {
   "cell_type": "code",
   "execution_count": null,
   "metadata": {
    "editable": true,
    "slideshow": {
     "slide_type": "slide"
    },
    "tags": []
   },
   "outputs": [],
   "source": [
    "collation = collatex.Collation()\n",
    "collation.add_plain_witness('O1', texte_a)\n",
    "collation.add_plain_witness('G2', texte_b)\n",
    "collation.add_plain_witness('Bodmer47', texte_c)"
   ]
  },
  {
   "cell_type": "code",
   "execution_count": null,
   "metadata": {
    "editable": true,
    "slideshow": {
     "slide_type": "slide"
    },
    "tags": []
   },
   "outputs": [],
   "source": [
    "# Regardons le nombre de témoins de l'objet collation:\n",
    "print(len(collation.witnesses))"
   ]
  },
  {
   "cell_type": "markdown",
   "metadata": {
    "editable": true,
    "slideshow": {
     "slide_type": ""
    },
    "tags": []
   },
   "source": [
    "Commençons par créer une table de collation simple."
   ]
  },
  {
   "cell_type": "code",
   "execution_count": null,
   "metadata": {
    "editable": true,
    "slideshow": {
     "slide_type": "slide"
    },
    "tags": []
   },
   "outputs": [],
   "source": [
    "result_table = collatex.collate(collation, segmentation=False)\n",
    "print(result_table)"
   ]
  },
  {
   "cell_type": "markdown",
   "metadata": {
    "editable": true,
    "slideshow": {
     "slide_type": "slide"
    },
    "tags": []
   },
   "source": [
    "Le résultat est peu lisible car le texte est trop long. Passons à une table d'alignement verticale."
   ]
  },
  {
   "cell_type": "code",
   "execution_count": null,
   "metadata": {
    "editable": true,
    "slideshow": {
     "slide_type": "slide"
    },
    "tags": []
   },
   "outputs": [],
   "source": [
    "# On collationne avec une table de collation verticale cette fois\n",
    "result_table = collatex.collate(collation, layout='vertical', segmentation=False)\n",
    "print(result_table)"
   ]
  },
  {
   "cell_type": "markdown",
   "metadata": {
    "editable": true,
    "slideshow": {
     "slide_type": ""
    },
    "tags": []
   },
   "source": [
    "On choisit ici de collationer mot-à-mot, mais une collation plus globale est possible: c'est le paramètre `segmentation` qu'il faut alors changer."
   ]
  },
  {
   "cell_type": "code",
   "execution_count": null,
   "metadata": {
    "editable": true,
    "slideshow": {
     "slide_type": ""
    },
    "tags": []
   },
   "outputs": [],
   "source": [
    "result_table = collatex.collate(collation, layout='vertical', segmentation=True)\n",
    "print(result_table)"
   ]
  },
  {
   "cell_type": "markdown",
   "metadata": {
    "editable": true,
    "slideshow": {
     "slide_type": "slide"
    },
    "tags": []
   },
   "source": [
    "On peut produire une sortie au format HTML (pages web) qui sera de meilleure facture: c'est fait avec l'argument `output` de notre méthode `collate`. Les options possibles sont `html`, `html2`, `json`, `table`, `xml`, `tei`, `csv`.\n",
    "\n",
    "Commeçons par la sortie html simple:"
   ]
  },
  {
   "cell_type": "code",
   "execution_count": null,
   "metadata": {
    "editable": true,
    "slideshow": {
     "slide_type": "slide"
    },
    "tags": []
   },
   "outputs": [],
   "source": [
    "# On collationne avec une table de collation verticale cette fois\n",
    "result_table = collatex.collate(collation, layout='vertical', output=\"html\", segmentation=False)"
   ]
  },
  {
   "cell_type": "code",
   "execution_count": null,
   "metadata": {},
   "outputs": [],
   "source": [
    "# On collationne avec une table de collation horizontale\n",
    "result_table = collatex.collate(collation, layout='horizontal', output=\"html\", segmentation=False)"
   ]
  },
  {
   "cell_type": "markdown",
   "metadata": {
    "editable": true,
    "slideshow": {
     "slide_type": "slide"
    },
    "tags": []
   },
   "source": [
    "On peut aussi proposer aussi une sortie qui mette en valeur les unités d'alignement avec variante formelle par une couleur particulière: c'est l'option `html2`"
   ]
  },
  {
   "cell_type": "code",
   "execution_count": null,
   "metadata": {
    "editable": true,
    "slideshow": {
     "slide_type": ""
    },
    "tags": []
   },
   "outputs": [],
   "source": [
    "result_table = collatex.collate(collation, layout='horizontal', output=\"html2\", segmentation=False)\n",
    "print(result_table)"
   ]
  },
  {
   "cell_type": "markdown",
   "metadata": {
    "editable": true,
    "slideshow": {
     "slide_type": ""
    },
    "tags": []
   },
   "source": [
    "On peut enfin proposer une sortie au format XML, qui pourra ensuite être facilement convertie à une édition TEI."
   ]
  },
  {
   "cell_type": "code",
   "execution_count": null,
   "metadata": {
    "editable": true,
    "slideshow": {
     "slide_type": ""
    },
    "tags": []
   },
   "outputs": [],
   "source": [
    "result_table = collatex.collate(collation, layout='horizontal', output=\"tei\", indent='True', segmentation=False)\n",
    "print(etree.tostring(etree.fromstring(result_table), pretty_print=True).decode())"
   ]
  }
 ],
 "metadata": {
  "celltoolbar": "Diaporama",
  "kernelspec": {
   "display_name": "venv",
   "language": "python",
   "name": "venv"
  },
  "language_info": {
   "codemirror_mode": {
    "name": "ipython",
    "version": 3
   },
   "file_extension": ".py",
   "mimetype": "text/x-python",
   "name": "python",
   "nbconvert_exporter": "python",
   "pygments_lexer": "ipython3",
   "version": "3.11.1"
  },
  "rise": {
   "scroll": true,
   "theme": "solarized",
   "transition": "slide"
  }
 },
 "nbformat": 4,
 "nbformat_minor": 4
}
